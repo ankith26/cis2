{
 "cells": [
  {
   "cell_type": "markdown",
   "metadata": {},
   "source": [
    "# Ising Model\n",
    "Ising model is one of the more famous models in statistical physics. The system studied in the model has 'spins' located at vertices of a (possibly infinite) lattice, and spins interact with their neighbours using a specific rule (like spins stabilize the energy and unlike spins destabilize the energy) and iteract with external field B; thus  the energy of the system is given as: \n",
    "$$ U = - \\sum_i B\\sigma_i - \\frac{1}{2} \\sum_{\\langle i,j \\rangle} J \\sigma_i \\sigma_j\n",
    "$$\n",
    "In the simple version of the model, $\\sigma_i = \\pm 1$, and system is maintained at temperature $T$; the probability of a particular configuration is given by the Boltzmann Probability Law:\n",
    "    $$ P(\\{\\sigma_i\\}_{i=1}^N) \\propto \\exp\\left[-\\beta U(\\{\\sigma_i\\})\\right]\n",
    "$$"
   ]
  },
  {
   "cell_type": "markdown",
   "metadata": {},
   "source": [
    "Clearly the probability is then given by \n",
    "$$ P(\\{ \\sigma_i\\}_{i=1}^N) \\propto \\exp\\left[ \\frac{B}{kT} \\sum_i \\sigma_i + \\frac{J}{2kT}\\sum_{\\langle i,j\\rangle} \\sigma_i \\sigma_j    \\right]\n",
    "$$\n",
    "and hence depends on numerical values of  $\\frac{B}{kT}$ and $\\frac{J}{2kT}$. "
   ]
  },
  {
   "cell_type": "markdown",
   "metadata": {},
   "source": [
    "## Periodic Boundary Conditions\n",
    "To simulate a infinite system, it is common to use Periodic Boundary Conditions (PBC). As illustraition consider 1-dimensional (1D) lattice, which is nothing but a straight line, with $N$ spins placed with equal spacing between two contigious spins. This chain of spins has left-end and right-end making this a finite system; however if we place this chain of spins on a circle such that in addition to requiring that distance between contigious spins is 1 unit, we require the distance betwen left-end and right-end of chain is 1 unit. We now see that the chain becomes *infinite*.\n",
    "\n",
    "You can imagine similar trick in 2 dimensions, by requiing PBC in x-direction and y-directions. And, in 3-dimensions, requiring PBC in x-direction, y-direction and z-directions. \n",
    "\n",
    "### A specific trick applicable only for Ising Model for periodic boundary conditions\n",
    "Add one extra row and one extra column to the configuration; the additional column/row is the copy of first column/row. "
   ]
  },
  {
   "cell_type": "markdown",
   "metadata": {},
   "source": [
    "## For Ising model, write following functions. Assume 2-dimensional model.\n",
    "Set $J=1$ without loss of generality. See http://web.mit.edu/krish_s/www/files/ising_Model.pdf  page-27 has $m\\, vs\\, T$ plot\n",
    "\n",
    "1. Write function to compute energy (using periodic boundary conditions): `Ising2D_Energy`\n",
    "3. Write a function for magnetisation `Ising_Magnetisation` for $m(T,B)$\n",
    "4. Write a function for computing heat capacity `Ising_HeatCapacity` for $C_V(T,B)$: $$C_V = \\frac{1}{k_B T^2}\\langle (E-\\bar{E})^2\\rangle = \\frac{1}{k_B T^2} \\left( \\langle E^2 \\rangle - \\langle E \\rangle^2 \\right)$$\n",
    "5. Write a function `Ising_SingleFlip_Metropolis` to perform one step of Metroplis Monte Carlo simulation\n",
    "6. Write a function  `Ising_StoreConfig` to store configuration\n",
    "7. Perform Monte Carlo Simulation of Ising Model\n",
    "8. Plot $m(T,B=0)$ vs. $kT/J$. Hint: $kT/J \\approx 2.5$ for critical temperature of Ising model. "
   ]
  },
  {
   "cell_type": "code",
   "execution_count": null,
   "metadata": {},
   "outputs": [],
   "source": []
  }
 ],
 "metadata": {
  "kernelspec": {
   "display_name": "Python 3",
   "language": "python",
   "name": "python3"
  },
  "language_info": {
   "codemirror_mode": {
    "name": "ipython",
    "version": 3
   },
   "file_extension": ".py",
   "mimetype": "text/x-python",
   "name": "python",
   "nbconvert_exporter": "python",
   "pygments_lexer": "ipython3",
   "version": "3.8.10"
  }
 },
 "nbformat": 4,
 "nbformat_minor": 2
}
