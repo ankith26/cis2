{
 "cells": [
  {
   "cell_type": "markdown",
   "metadata": {},
   "source": [
    "***\n",
    "<a id='lesson-9'></a>\n",
    "# Epicycle: a circle rolling over another circle\n",
    "***\n",
    "\n",
    "Circle moving on other circle is a frequent motif in the models of planetary model.  For example, imagine descirbing the motion of moon; in a helio-centric model, moon circles earth while the earth circles around the sun. \n",
    "\n",
    "Fourier showed that ANY curve can be described as a motion of a circle which is moving on another circle, which is moving on another circle and so on. In this lesson, we will explore the Fourier analysis using complex numbers.\n",
    "\n",
    "We want to model a closed curve in two dimensions; as a simplistic example, consider a circle with center at origin given by $x^2 + y^2 = c^2$, with $c$ being the radius of the circle. Of specific interest is the parametric description with parameter $t$, the circle has following parametric description: $x(t) = c \\cos(t)$ and $y(t) = c \\sin(t)$. The complex number description of this parametrization is given by $z(t) = c \\exp(j t)$ where $j= \\sqrt{-1}$. \n",
    "\n",
    "Let us consider:  $z(t) = c e^{jt}$, this has $z(t) = z(t+ 2 \\pi)$, i.e. with a period of $2\\pi$ any point returns to itself. \n",
    "\n",
    "Now consider: $z(t) = c e^{njt}$, this has $z(t) = z(t + 2\\pi/n)$, i.e. with a period of $2\\pi/n$ evey point returns to itself. \n",
    "\n",
    "For the sake of having a period 1 unit of time and fractions of it, we will consider $z(t) = c e^{2\\pi n j t}$, which has a period of 1/n unit of time.\n",
    "\n"
   ]
  },
  {
   "cell_type": "code",
   "execution_count": 2,
   "metadata": {},
   "outputs": [],
   "source": [
    "import cmath"
   ]
  },
  {
   "cell_type": "markdown",
   "metadata": {},
   "source": [
    "See python documentation for `cmath` at https://docs.python.org/3.5/library/cmath.html"
   ]
  },
  {
   "cell_type": "markdown",
   "metadata": {},
   "source": [
    "Consider an epicycle given by: $z(t) = c_1 e^{2\\pi jt} + c_2 e^{30\\pi jt}$"
   ]
  },
  {
   "cell_type": "markdown",
   "metadata": {},
   "source": [
    "Consider that there are a series of observations $\\vec{r}_i= (x_i,y_i),\\, i\\in[1,N]$. We will form the closed curve by $\\vec{r}_{N+i} = \\vec{r}_i$. We want to find a epicyclic desription of the complex function $z(t)$ such that for $t_i=\\tau*i$, we have $z(t_i)=(x_i,y_i)$.  That is, we want to find a description\n",
    "$$  z(t) = \\sum_n c_n * e^{2 \\pi j~n~t} \\tag{eq:1}\n",
    "$$\n",
    "where the coefficient $c_n$ can be a complex number, and $n \\in \\mathcal{Z}$; later we will show that \n",
    "$\\tau = \\frac{1}{N}$.\n",
    "\n",
    "Lets try formulate the problem. Given $z_i \\forall i \\in [1,N]$, with $z_i \\equiv z(t_i)$, find $c_n$ in the Equation eq:1 above. \n",
    "\n",
    "Solution: Consider $$z(t)*e^{- 2\\pi j m t} = \\sum_n c_n * e^{2 \\pi j~(n-m)~t}$$\n",
    "then integrating on both sides from $t=0$ $t=1$, gives us \n",
    "$$ \\int_0^1 dt~z(t)*e^{- 2\\pi j m t} = c_m \\implies c_m = \\tau \\sum_{i=1}^{N} z_i*e^{-2\\pi j m~i \\tau}\n",
    "$$\n",
    "Typically $c_n$ is found for $|n| \\le n_{max}$ i.e. $n \\in [-n_{max}, \\cdots, 0 , \\cdots, -n_{max}]$"
   ]
  },
  {
   "cell_type": "markdown",
   "metadata": {},
   "source": [
    "Now given the above created dictionary, reconstruct the curve from it\n"
   ]
  },
  {
   "cell_type": "markdown",
   "metadata": {},
   "source": [
    "You are given three shapes: curve_para-1-v2.dat, hut-2.dat and pi-3.dat\n",
    "\n",
    "Find the fourier coefficeints for each of them. Plot the reconstructed curves. Comment"
   ]
  },
  {
   "cell_type": "code",
   "execution_count": 48,
   "metadata": {},
   "outputs": [],
   "source": [
    "curve1= numpy.loadtxt('/home/prabhakar/curve_para-1-v2.dat')"
   ]
  },
  {
   "cell_type": "code",
   "execution_count": 2,
   "metadata": {},
   "outputs": [
    {
     "name": "stdout",
     "output_type": "stream",
     "text": [
      "121.49305 24.870832\r\n",
      "107.49556 28.132284\r\n",
      "100.09688 36.593452\r\n",
      "102.59857 45.19524\r\n",
      "118.11889 49.939392\r\n",
      "127.84305 50.976391\r\n",
      "133.17926 55.077209\r\n",
      "133.3734 65.122757\r\n",
      "120.6111 70.555557\r\n",
      "107.85551 73.181053\r\n",
      "100.23964 79.049072\r\n",
      "103.67777 88.194443\r\n",
      "116.85825 93.379539\r\n",
      "124.66315 94.171944\r\n",
      "121.51106 105.78836\r\n",
      "115.76173 112.59842\r\n",
      "106.22371 109.85727\r\n",
      "102.96416 100.91142\r\n",
      "111.91701 94.309814\r\n",
      "126.43134 88.897537\r\n",
      "133.66388 81.315277\r\n",
      "129.43056 70.379166\r\n",
      "120.96388 66.851387\r\n",
      "113.90132 60.350796\r\n",
      "118.67082 51.858334\r\n",
      "137.76537 49.918056\r\n",
      "154.39876 47.793934\r\n",
      "161.08369 39.599545\r\n",
      "154.65416 31.397223\r\n",
      "144.56799 24.620348\r\n",
      "133.48749 22.048611\r\n",
      "122.02221 21.872223\r\n",
      "121.95285 22.265259\r\n"
     ]
    }
   ],
   "source": [
    "cat /home/prabhakar/Documents/Courses/curve_para-1-v2.dat"
   ]
  },
  {
   "cell_type": "markdown",
   "metadata": {},
   "source": [
    "# Tasks:::\n",
    "1. Write function `compute_Fourier_dict( zvals, n_max )` to return a dictionary for coefficients with index $-n_{max} \\le n \\le n_{max}$\n",
    "2. Write function to take the dictornary of fourier coefficents and plot the 'reconstrcution'; funciton `reconstruct_Fourier_dict( fourier_dict )`\n",
    "3. Use thes functions on the three examples provided to you. Comment.\n",
    "4. Use Inkscape (Unix) to draw your own shape, and get the curve data and get fourier coefficients, and reconstruction"
   ]
  },
  {
   "cell_type": "code",
   "execution_count": null,
   "metadata": {},
   "outputs": [],
   "source": []
  },
  {
   "cell_type": "code",
   "execution_count": null,
   "metadata": {},
   "outputs": [],
   "source": []
  },
  {
   "cell_type": "markdown",
   "metadata": {},
   "source": [
    "## short note on making shapes\n",
    "We will use inkscape program. Draw a shape in inkscape. Save the file as svg, for example 'pi.svg'. From this file, we will extract the path.\n",
    "\n",
    "Run the following command  in a terminal: \n",
    "\n",
    "`grep -v 'inkscape' pi.svg | grep -e cx -e cy  | sed -e 's/\"//g' -e 's/cx=//g' -e 's/cy=//g' -e 's/\\/>//g' > pi.dat`\n",
    "\n",
    "In the Jupyter notebook run the following commands:\n",
    "\n",
    "`curve_pi = loadtxt('pi.dat') # command to load the data` \n",
    "\n",
    "and then \n",
    "\n",
    "`curve_pi = curve_pi.reshape( int(shape(curve_pi)[0]/2), 2) )`\n"
   ]
  },
  {
   "cell_type": "code",
   "execution_count": 33,
   "metadata": {},
   "outputs": [],
   "source": [
    "curve_pi = loadtxt('/tmp/pi.dat')"
   ]
  },
  {
   "cell_type": "code",
   "execution_count": 3,
   "metadata": {},
   "outputs": [
    {
     "name": "stdout",
     "output_type": "stream",
     "text": [
      "60.854166 -143.54167\r\n",
      "62.706249 -115.49583\r\n",
      "60.589583 -100.15\r\n",
      "58.208333 -89.302084\r\n",
      "51.954042 -89.83125\r\n",
      "35.532988 -89.566667\r\n",
      "30.427083 -86.391667\r\n",
      "30.261577 -64.966797\r\n",
      "40.11226 -70.58208\r\n",
      "55.84397 -72.897917\r\n",
      "65.65044 -72.104167\r\n",
      "76.717289 -67.371466\r\n",
      "88.825979 -63.442558\r\n",
      "103.02191 -60.819743\r\n",
      "121.70833 -59.668751\r\n",
      "134.67291 -60.462501\r\n",
      "137.2045 -74.350308\r\n",
      "131.7652 -78.686125\r\n",
      "123.03125 -77.660417\r\n",
      "112.11589 -80.302739\r\n",
      "107.21489 -84.372719\r\n",
      "113.21033 -103.64871\r\n",
      "114.95576 -119.33255\r\n",
      "114.97706 -137.08417\r\n",
      "109.49854 -143.2698\r\n",
      "98.40901 -143.8321\r\n",
      "96.897487 -129.76806\r\n",
      "94.783267 -113.11451\r\n",
      "91.250826 -97.895848\r\n",
      "89.429156 -88.24375\r\n",
      "77.500933 -90.72854\r\n",
      "78.746064 -102.79205\r\n",
      "79.604333 -115.7488\r\n",
      "80.490043 -131.53452\r\n",
      "81.227072 -148.56875\r\n",
      "74.263468 -146.1875\r\n",
      "64.293739 -145.92292\r\n",
      "63.029539 -145.0477\r\n",
      "\r\n"
     ]
    }
   ],
   "source": [
    "cat /home/prabhakar/Documents/Courses/pi-3.dat"
   ]
  },
  {
   "cell_type": "code",
   "execution_count": 38,
   "metadata": {},
   "outputs": [],
   "source": [
    "curve_pi = curve_pi.reshape((int(shape(curve_pi)[0]/2),2))"
   ]
  },
  {
   "cell_type": "code",
   "execution_count": 37,
   "metadata": {},
   "outputs": [
    {
     "data": {
      "text/plain": [
       "136.0"
      ]
     },
     "execution_count": 37,
     "metadata": {},
     "output_type": "execute_result"
    }
   ],
   "source": [
    "shape(curve_pi)[0]/2"
   ]
  },
  {
   "cell_type": "code",
   "execution_count": 44,
   "metadata": {},
   "outputs": [
    {
     "data": {
      "text/plain": [
       "[<matplotlib.lines.Line2D at 0x7f31c762aa90>]"
      ]
     },
     "execution_count": 44,
     "metadata": {},
     "output_type": "execute_result"
    },
    {
     "data": {
      "image/png": "[encoded data removed]",
      "text/plain": [
       "<Figure size 432x288 with 1 Axes>"
      ]
     },
     "metadata": {
      "needs_background": "light"
     },
     "output_type": "display_data"
    }
   ],
   "source": [
    "plot(curve_pi[:,0], curve_pi[:,1])"
   ]
  },
  {
   "cell_type": "markdown",
   "metadata": {},
   "source": [
    "Cleary the 'pi' shape to be rotated, which will do below:"
   ]
  },
  {
   "cell_type": "code",
   "execution_count": 43,
   "metadata": {},
   "outputs": [
    {
     "data": {
      "text/plain": [
       "[<matplotlib.lines.Line2D at 0x7f31c6ad7780>]"
      ]
     },
     "execution_count": 43,
     "metadata": {},
     "output_type": "execute_result"
    },
    {
     "data": {
      "image/png": "[encoded data removed]",
      "text/plain": [
       "<Figure size 432x288 with 1 Axes>"
      ]
     },
     "metadata": {
      "needs_background": "light"
     },
     "output_type": "display_data"
    }
   ],
   "source": [
    "y_pi = -curve_pi[:,0]\n",
    "x_pi = curve_pi[:,1]\n",
    "plot(x_pi,y_pi,'.-')"
   ]
  },
  {
   "cell_type": "code",
   "execution_count": null,
   "metadata": {},
   "outputs": [],
   "source": []
  }
 ],
 "metadata": {
  "kernelspec": {
   "display_name": "Python 3",
   "language": "python",
   "name": "python3"
  },
  "language_info": {
   "codemirror_mode": {
    "name": "ipython",
    "version": 3
   },
   "file_extension": ".py",
   "mimetype": "text/x-python",
   "name": "python",
   "nbconvert_exporter": "python",
   "pygments_lexer": "ipython3",
   "version": "3.8.10"
  }
 },
 "nbformat": 4,
 "nbformat_minor": 2
}
