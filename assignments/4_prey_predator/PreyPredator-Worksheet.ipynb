{
 "cells": [
  {
   "cell_type": "markdown",
   "metadata": {},
   "source": [
    "# Prey-predator model\n",
    "\n",
    "Prey-Predator (also known in literature as Lotka-Volterra model) is a popular model to study dynamics of a system consisting of two antogonists, in this case rabbits (prey) and foxes (predator). \n",
    "\n",
    "The dynamics of the sytem are determined by interactions within and between the prey and predator populations. The intra-species interactions are (natural) birth and (natural) death rates, while inter-species interactions are the predation of prey (i.e. predator 'eats' prey for its survival!). Let $X$ denote the population size of prey and $Y$ denote the popluation size of predator. \n",
    "\n"
   ]
  },
  {
   "cell_type": "markdown",
   "metadata": {},
   "source": [
    "For the population  dynamics of the prey: prey replicates at a rate that is controlled by abundance of the natural resources (rabbits need grass); we assume that these natural resources are abundant and remain at the same level throughout. Prey might die of natural causes (old age) or is eaten by predator. Thus the dynamics are reasonably modeled as:\n",
    "$$ \\frac{dX}{dt} = \\alpha X - \\beta X Y $$"
   ]
  },
  {
   "cell_type": "markdown",
   "metadata": {},
   "source": [
    "For the population dynamics of predator: population of predator is expected increase linearly with its own size, and also on the population size of prey (since it needs prey as food). The natural death rate of the population depends on its own population size. Thus prey population size dynamics may be modeled as:\n",
    "$$ \\frac{dY}{dt} = \\gamma X Y - \\delta Y $$"
   ]
  },
  {
   "cell_type": "markdown",
   "metadata": {},
   "source": [
    "Clearly the dynamics of the model are dependent on the four positive constants $\\alpha,~\\beta,~\\gamma$, and $\\delta$, which are to be inferred from the feild data.\n",
    "\n",
    "We will study and understand the population dynamics of this model (i.e. $X(t)$ and $Y(t)$). We will set these four parameters to value of 1."
   ]
  },
  {
   "cell_type": "markdown",
   "metadata": {},
   "source": [
    "## Summary of tasks\n",
    "1. [__For the model, set parameter values__](#parameters)\n",
    "2. [__Plot of rate vector field__](#vectorfield)\n",
    "3. [__Find steady states__](#steadystates)\n",
    "3. [__Time evolution of system__](#timeevolution)\n",
    "4. [__Find Jacobian__](#jacobian)\n",
    "4. [__Brief interlude: Geometric Intepretation of matrix operation__](#geometric)\n",
    "5. [__Find eigen values and eigen vectors for Jacobain Matrix__](#eigensystem)"
   ]
  },
  {
   "cell_type": "markdown",
   "metadata": {},
   "source": [
    "***\n",
    "<a id='parameters'>\n",
    "    \n",
    "## Task: Set by hand the value of the 4 parameter values from the last four digits of your IIIT roll number\n",
    "</a>\n",
    "\n",
    "***\n",
    "Add 1 to each digit and multiply by 2 and set this value to the parameters.\n",
    "\n",
    "__alternatively: use $(\\alpha,\\beta,\\gamma,\\delta)=(2,1,1,2)$__"
   ]
  },
  {
   "cell_type": "code",
   "execution_count": 1,
   "metadata": {},
   "outputs": [],
   "source": [
    "#alpha,beta,gamma,delta=2,1,1,2\n",
    "params=(2,1,1,2)"
   ]
  },
  {
   "cell_type": "markdown",
   "metadata": {},
   "source": [
    "***\n",
    "<a id='vectorfield'>\n",
    "    \n",
    "## Task: Plot the vector $\\left(\\frac{dX}{dt},\\frac{dY}{dt}\\right)$ in XY plane\n",
    "</a>\n",
    "\n",
    "***\n",
    "From the this plot, qualitatively say what is the behaviour! \n",
    "\n",
    "\n",
    "Hints (that *might* be useful for you to organize):\n",
    "1. It will be useful for later to write the function `rate_vector(r,t,*cons)` where `r` is the list [X,Y], `t` is time (dummy for now) and `cons` is the __tuple__ of parameters; output will be the list $\\left[\\frac{dX}{dt}, \\frac{dY}{dt}\\right]$\n",
    "1. The x-range and y-range are to be determined by the steady state position determined in previous task. \n",
    "2. For plotting the arrows use the function `arrow(x,y,dx,dy)` to draw arrow from point $(x,y)$ to point $(x+dx,y+dy)$."
   ]
  },
  {
   "cell_type": "code",
   "execution_count": 2,
   "metadata": {},
   "outputs": [
    {
     "ename": "NameError",
     "evalue": "name 'arrow' is not defined",
     "output_type": "error",
     "traceback": [
      "\u001b[0;31m---------------------------------------------------------------------------\u001b[0m",
      "\u001b[0;31mNameError\u001b[0m                                 Traceback (most recent call last)",
      "Cell \u001b[0;32mIn[2], line 3\u001b[0m\n\u001b[1;32m      1\u001b[0m \u001b[38;5;66;03m#[[HINT]]\u001b[39;00m\n\u001b[0;32m----> 3\u001b[0m \u001b[43marrow\u001b[49m(x,y,vel[\u001b[38;5;241m0\u001b[39m]\u001b[38;5;241m/\u001b[39m\u001b[38;5;241m10\u001b[39m,vel[\u001b[38;5;241m1\u001b[39m]\u001b[38;5;241m/\u001b[39m\u001b[38;5;241m10\u001b[39m,head_width\u001b[38;5;241m=\u001b[39m\u001b[38;5;241m0.05\u001b[39m,head_length\u001b[38;5;241m=\u001b[39m\u001b[38;5;241m0.05\u001b[39m)\n\u001b[1;32m      4\u001b[0m xlim(\u001b[38;5;241m0\u001b[39m,\u001b[38;5;241m5\u001b[39m)\n\u001b[1;32m      5\u001b[0m ylim(\u001b[38;5;241m0\u001b[39m,\u001b[38;5;241m5\u001b[39m)\n",
      "\u001b[0;31mNameError\u001b[0m: name 'arrow' is not defined"
     ]
    }
   ],
   "source": [
    "#[[HINT]]\n",
    "\n",
    "arrow(x,y,vel[0]/10,vel[1]/10,head_width=0.05,head_length=0.05)\n",
    "xlim(0,5)\n",
    "ylim(0,5)\n",
    "xlabel('X')\n",
    "ylabel('Y')"
   ]
  },
  {
   "cell_type": "markdown",
   "metadata": {},
   "source": [
    "***\n",
    "<a id='steadystates'>\n",
    "    \n",
    "## Task: Find the steady states (where $\\left(\\frac{dX}{dt},\\frac{dY}{dt}\\right)=(0,0)$) by numerically solving the two coupled equations for the two unknowns $X,Y$ \n",
    "</a>\n",
    "\n",
    "***"
   ]
  },
  {
   "cell_type": "code",
   "execution_count": null,
   "metadata": {},
   "outputs": [],
   "source": [
    "import scipy.optimize"
   ]
  },
  {
   "cell_type": "code",
   "execution_count": null,
   "metadata": {},
   "outputs": [],
   "source": [
    "?scipy.optimize.fsolve"
   ]
  },
  {
   "cell_type": "code",
   "execution_count": null,
   "metadata": {},
   "outputs": [],
   "source": [
    "print(ss1)"
   ]
  },
  {
   "cell_type": "code",
   "execution_count": null,
   "metadata": {},
   "outputs": [],
   "source": [
    "print(ss2)"
   ]
  },
  {
   "cell_type": "markdown",
   "metadata": {},
   "source": [
    "***\n",
    "<a id='timeevolution'>\n",
    "    \n",
    "## Task: Integrate the rate laws and find the evolution of system\n",
    "</a>\n",
    "\n",
    "***\n",
    "Plot $X(t)$ and $Y(t)$ for some choosen values of $X(t=0)$ and $Y(t=0)$. And describe its behaviour in your own words. \n",
    "\n",
    "Hint: use `scipy.integrate.odeint` function"
   ]
  },
  {
   "cell_type": "code",
   "execution_count": null,
   "metadata": {},
   "outputs": [],
   "source": [
    "?scipy.integrate.odeint"
   ]
  },
  {
   "cell_type": "code",
   "execution_count": null,
   "metadata": {},
   "outputs": [],
   "source": []
  },
  {
   "cell_type": "code",
   "execution_count": null,
   "metadata": {},
   "outputs": [],
   "source": []
  },
  {
   "cell_type": "markdown",
   "metadata": {},
   "source": [
    "***\n",
    "<a id='jacobian'>\n",
    "    \n",
    "## Task: Using SymPy, find the Jacobian (at any arbitrary point), and hence the Jacobian at steady state(/s)\n",
    "</a>\n",
    "\n",
    "***"
   ]
  },
  {
   "cell_type": "code",
   "execution_count": null,
   "metadata": {},
   "outputs": [],
   "source": [
    "import sympy"
   ]
  },
  {
   "cell_type": "code",
   "execution_count": null,
   "metadata": {},
   "outputs": [],
   "source": [
    "?rate_vector"
   ]
  },
  {
   "cell_type": "code",
   "execution_count": null,
   "metadata": {},
   "outputs": [],
   "source": [
    "X=sympy.Symbol('x')\n",
    "Y=sympy.Symbol('y')"
   ]
  },
  {
   "cell_type": "code",
   "execution_count": null,
   "metadata": {},
   "outputs": [],
   "source": [
    "rateV = rate_vector([X,Y],0.0,*params)"
   ]
  },
  {
   "cell_type": "code",
   "execution_count": null,
   "metadata": {},
   "outputs": [],
   "source": [
    "print(rateV)"
   ]
  },
  {
   "cell_type": "code",
   "execution_count": null,
   "metadata": {},
   "outputs": [],
   "source": [
    "jac=(sympy.Matrix(rateV)).jacobian(sympy.Matrix([X,Y]))"
   ]
  },
  {
   "cell_type": "code",
   "execution_count": null,
   "metadata": {},
   "outputs": [],
   "source": [
    "ss1"
   ]
  },
  {
   "cell_type": "code",
   "execution_count": null,
   "metadata": {},
   "outputs": [],
   "source": [
    "jac1 = (jac.subs(X,ss1[0])).subs(Y,ss1[1])"
   ]
  },
  {
   "cell_type": "code",
   "execution_count": null,
   "metadata": {},
   "outputs": [],
   "source": [
    "print(jac1)"
   ]
  },
  {
   "cell_type": "code",
   "execution_count": null,
   "metadata": {},
   "outputs": [],
   "source": [
    "jac1_np = np.array(jac1)"
   ]
  },
  {
   "cell_type": "code",
   "execution_count": null,
   "metadata": {},
   "outputs": [],
   "source": [
    "jac1_np"
   ]
  },
  {
   "cell_type": "code",
   "execution_count": null,
   "metadata": {},
   "outputs": [],
   "source": [
    "jac1_np = jac1_np.astype(float64)"
   ]
  },
  {
   "cell_type": "code",
   "execution_count": null,
   "metadata": {},
   "outputs": [],
   "source": [
    "jac1_np"
   ]
  },
  {
   "cell_type": "code",
   "execution_count": null,
   "metadata": {},
   "outputs": [],
   "source": [
    "np.linalg.eig(jac1_np)"
   ]
  },
  {
   "cell_type": "code",
   "execution_count": null,
   "metadata": {},
   "outputs": [],
   "source": [
    "np.array(jac)"
   ]
  },
  {
   "cell_type": "code",
   "execution_count": null,
   "metadata": {},
   "outputs": [],
   "source": [
    "ss2"
   ]
  },
  {
   "cell_type": "code",
   "execution_count": null,
   "metadata": {},
   "outputs": [],
   "source": [
    "jac2 = (jac.subs(X,ss2[0])).subs(Y,ss2[1])"
   ]
  },
  {
   "cell_type": "code",
   "execution_count": null,
   "metadata": {},
   "outputs": [],
   "source": [
    "jac2"
   ]
  },
  {
   "cell_type": "code",
   "execution_count": null,
   "metadata": {},
   "outputs": [],
   "source": [
    "jac2_np = np.array(jac2).astype(float64)"
   ]
  },
  {
   "cell_type": "code",
   "execution_count": null,
   "metadata": {},
   "outputs": [],
   "source": [
    "np.linalg.eig(jac2_np)"
   ]
  },
  {
   "cell_type": "code",
   "execution_count": null,
   "metadata": {},
   "outputs": [],
   "source": []
  },
  {
   "cell_type": "code",
   "execution_count": null,
   "metadata": {},
   "outputs": [],
   "source": []
  },
  {
   "cell_type": "markdown",
   "metadata": {},
   "source": [
    "***\n",
    "<a id='geometric'>\n",
    "    \n",
    "## Task: Geometric Interpretation of Matrix (through its operation on vectors)\n",
    "</a>\n",
    "\n",
    "***"
   ]
  },
  {
   "cell_type": "markdown",
   "metadata": {},
   "source": [
    "One of the common operations is matrix operation on vector, and many of the times of specific interest is multiple repeated operations of matrix on vector. "
   ]
  },
  {
   "cell_type": "markdown",
   "metadata": {},
   "source": [
    "Consider $\\textbf A$, an arbitrary $2\\times 2$ matrix. For a arbirtary unit vector $\\vec x$, plot $\\textbf A \\vec x$. From this plot, can you generalise the operation $\\textbf A \\vec x$."
   ]
  },
  {
   "cell_type": "code",
   "execution_count": null,
   "metadata": {},
   "outputs": [],
   "source": []
  },
  {
   "cell_type": "markdown",
   "metadata": {},
   "source": [
    "Let matrix be $\\textbf{A}$ of size $N\\times N$ and column vector $\\vec x$ of $N$ rows. Of interest is understanding $\\textbf A \\vec x$ and $\\textbf A^n \\vec x$. A common solution is to find the eigen values and eigen vectors of matrix $\\textbf A$, i.e. solutions of eigen system $\\textbf A \\vec v = \\lambda \\vec v$ allows for $N$ solutions i.e.  pairs $(\\lambda_i,\\vec v_i)$ solve $\\textbf A \\vec v_i = \\lambda_i \\vec v_i$ for $1\\le i \\le N$, such that $\\lambda_i \\le \\lambda_j$ when $i \\le j$. When determinant of matrix is not zero (i.e. $\\det \\textbf A \\ne 0$), the set of  vectors $\\{\\vec v_i,~i\\in[1,N]\\}$ form linearly independent set, and can act as basis vectors. [__Gram-Smidt Orthoganlization__](https://en.wikipedia.org/wiki/Gram%E2%80%93Schmidt_process) can convert these eigen vectors into ortho-normal vectors, i.e. $\\vec v_i \\cdot \\vec v_j = \\delta_{i,j}$, where Kroneker delta function $\\delta_{i,j}=1$ when $i=j$ and 0 otherwise.\n",
    "\n",
    "Any vector $\\vec x$ can be written as linear combination of such basis vectors, i.e. $\\vec x = \\sum_{i=1}^N c^{(0)}_i \\vec v_i$ with constants $c^{(0)}_i$. So that $\\textbf A \\vec x = \\sum_{i=1}^N c^{(1)}_i \\vec v_i$, with $c^{(1)}_i = \\lambda_i c^{(0)}_i$. For a repeated operation of $\\textbf A$, we have $\\textbf A^k \\vec x = \\sum_{i=1}^N c^{(k)}_i \\vec v_i$ with $c^{(k)}_i = \\lambda^k_i c^{(0)}_i$. "
   ]
  },
  {
   "cell_type": "markdown",
   "metadata": {},
   "source": [
    "For the matrix $\\textbf A$, find the eigen values and eigen vectors. Draw projection of an arbitrary unit vector $\\vec x$ onto the eigen vectors. Do the same for $\\vec b$ where $\\vec b = \\textbf A \\vec x$. Try for a few cases of $\\vec x$ and see if the above statements regarding $A^k\\vec x$ are true (for $k=1$)."
   ]
  },
  {
   "cell_type": "code",
   "execution_count": null,
   "metadata": {},
   "outputs": [],
   "source": [
    "xlim(-4,4)\n",
    "ylim(-4,4)\n",
    "arrow(0,0,ev[0][0],ev[0][1])\n",
    "arrow(0,0,ev[1][0],ev[1][1])"
   ]
  },
  {
   "cell_type": "code",
   "execution_count": null,
   "metadata": {},
   "outputs": [],
   "source": [
    "t = 0.3\n",
    "rv = [cos(t),sin(t)]\n"
   ]
  },
  {
   "cell_type": "markdown",
   "metadata": {},
   "source": [
    "***\n",
    "<a id='eigensystem'>\n",
    "    \n",
    "## Task: Find the value of the Jacobian at the steady state(or states), and find the eigenvalues and corresponding eigenvectors\n",
    "</a>\n",
    "\n",
    "***\n",
    "\n",
    "With these eigen values and eigen values, determine the behaviour of the system in the neighbourhood of each steady state."
   ]
  },
  {
   "cell_type": "code",
   "execution_count": null,
   "metadata": {},
   "outputs": [],
   "source": []
  }
 ],
 "metadata": {
  "kernelspec": {
   "display_name": "Python 3 (ipykernel)",
   "language": "python",
   "name": "python3"
  },
  "language_info": {
   "codemirror_mode": {
    "name": "ipython",
    "version": 3
   },
   "file_extension": ".py",
   "mimetype": "text/x-python",
   "name": "python",
   "nbconvert_exporter": "python",
   "pygments_lexer": "ipython3",
   "version": "3.10.6"
  }
 },
 "nbformat": 4,
 "nbformat_minor": 2
}
