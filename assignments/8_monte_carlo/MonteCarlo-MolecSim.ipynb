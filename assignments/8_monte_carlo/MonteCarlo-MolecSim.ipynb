{
 "cells": [
  {
   "cell_type": "markdown",
   "metadata": {},
   "source": [
    "# Monte Carlo Molecuar Simulation\n",
    "\n",
    "MC molecular simulation basically uses the idea of Markov Chain Monte Carlo to generate samples from Boltzmann distribution. Boltzmann distribuion has the following property:\n",
    "$$  \\mathbf{x}\\in\\mathcal{R}^f, \\text {  Probabiltity density   } p(\\mathbf{x})\\propto e^{-\\beta E(\\mathbf{x})} $$\n",
    "where the degrees of freedom of the system are large, typically $f \\sim 10000$. Generating samples of $\\mathbf{x}$ is very difficult, since most values of $\\mathbf{x}$ are NOT feasible (i.e. $p(\\mathbf{x}) \\simeq 0$). \n",
    "\n",
    "If a sample is generated, then properties of the system are calcualted by computing integrals of type:\n",
    "$$ \\langle A \\rangle = \\frac{\\int~d\\mathbf{x}~A(\\mathbf{x}) p(\\mathbf{x})}{\\int~d\\mathbf{x}~p(\\mathbf{x})}\n",
    "$$"
   ]
  },
  {
   "cell_type": "markdown",
   "metadata": {},
   "source": [
    "One very popular idea is to use Markov Process, elaborated now. Given $\\mathbf{x}$, generate new point $\\mathbf{y}$ that is *close* to $\\mathbf{x}$ by a random pertubation. Since new point depends only on the current point **and** does not depend on prior history, this process (of generating new point) is called a Markov Process. "
   ]
  },
  {
   "cell_type": "markdown",
   "metadata": {},
   "source": [
    "Now, to ensure that the `randomly` generated $\\mathbf{y}$ is from probability distribution $p(\\mathbf{x})$, an additional condition called **detailed balance condition** is used:\n",
    "$$ p(\\mathbf{x})~t(\\mathbf{x}\\rightarrow \\mathbf{y}) = p(\\mathbf{y})~t(\\mathbf{y} \\rightarrow \\mathbf{x})\n",
    "$$\n",
    "where $t$ is the transition probability. The transition probability in turn can be split into suggestion probability $s(\\bf{y}|\\bf{x})$ and the acceptace probability $a(\\bf{x}\\rightarrow \\bf{y})$; i.e $t(\\mathbf{x}\\rightarrow \\mathbf{y}) = s(\\mathbf{y} | \\mathbf{x}) ~ a(\\mathbf{x} \\rightarrow \\mathbf{y})$. Typically, $s( \\mathbf{y} | \\mathbf{x} ) = s(\\mathbf{x}|\\mathbf{y})$. The detailed balance condition can be rewitten to find the ratio of acceptance probabilities. "
   ]
  },
  {
   "cell_type": "markdown",
   "metadata": {},
   "source": [
    "Metropolis suggested that from the ratio of acceptence probabilities, the acceptance probabilitity can be written as: \n",
    "$$ a( \\mathbf{x} \\rightarrow \\mathbf{y}) = min \\left( 1, \\frac{p(\\mathbf{y})}{p(\\mathbf{x})} \\right)\n",
    "$$\n",
    "Note that Metropolis' acceptance criterion is only one of the many possible sultions for $a(\\bf{x}\\rightarrow \\bf{y})$"
   ]
  },
  {
   "cell_type": "markdown",
   "metadata": {},
   "source": [
    "Also note that when the simulation is for an equilibrium ensemble with $p(\\mathbf x) \\propto \\exp(-\\beta E(\\mathbf x) )$, then the Metropolis acceptance criteria becomes: \n",
    "\\begin{equation}\n",
    "a(\\mathbf x \\rightarrow \\mathbf y) = min\\left( 1 e^{-\\beta (E(\\mathbf y) - E(\\mathbf x))}\\right) = \\begin{cases} 1, &\\textrm{ if } E(\\mathbf y)-E(\\mathbf x) \\le 0, \\\\ e^{-\\beta ( E(\\mathbf y)-E(\\mathbf x))}, &otherwise \\end{cases}\n",
    "\\end{equation}"
   ]
  },
  {
   "cell_type": "markdown",
   "metadata": {},
   "source": [
    "# Write the following functions to do Markov Chain Monte Carlo (MCMC)\n",
    "\n",
    "We will be considering the Argon system, as before. Write the following functions for performing MCMC\n",
    "- `totalPotentialEnergy`, `pairwise_LJ_energy(i,j)`\n",
    "- `MCMC_Translate` to implement the following: `selectParticleRandom`, `randomDisplacement_of_randomlySelectedParticle(i,max_dist)`,  `MetropolisAcceptanceCriterion()`\n"
   ]
  },
  {
   "cell_type": "code",
   "execution_count": 1,
   "metadata": {},
   "outputs": [
    {
     "name": "stdout",
     "output_type": "stream",
     "text": [
      "Populating the interactive namespace from numpy and matplotlib\n"
     ]
    }
   ],
   "source": [
    "%pylab inline"
   ]
  },
  {
   "cell_type": "code",
   "execution_count": 2,
   "metadata": {},
   "outputs": [],
   "source": [
    "numParticles = 64\n",
    "dim = 2"
   ]
  },
  {
   "cell_type": "code",
   "execution_count": 7,
   "metadata": {},
   "outputs": [],
   "source": [
    "# generate a random initial configuration\n",
    "boxL = 10.0\n",
    "positions = np.random.random_sample( (numParticles, dim)) * boxL"
   ]
  },
  {
   "cell_type": "code",
   "execution_count": 5,
   "metadata": {},
   "outputs": [],
   "source": [
    "def totalPotentialEnergy():\n",
    "    global positions, numParticles\n",
    "    totPE = 0.0\n",
    "    # run loop over all pairs\n",
    "        totPE += pairwise_LJ_energy(i,j)\n",
    "    \n",
    "    return totPE\n",
    "\n",
    "def pairwise_LJ_energy(i,j):\n",
    "    global positions\n",
    "    # compute LJ interaction beteen particle i and j\n",
    "    \n",
    "    return "
   ]
  },
  {
   "cell_type": "code",
   "execution_count": 6,
   "metadata": {},
   "outputs": [],
   "source": []
  },
  {
   "cell_type": "code",
   "execution_count": null,
   "metadata": {},
   "outputs": [],
   "source": [
    "def MCMC_Translate():\n",
    "    # select a praticle randomly\n",
    "    \n",
    "    # perform random displacemnt of the selected particle\n",
    "    \n",
    "    # compute U_{after} - U_{before}, and acceptance probabilty\n",
    "\n",
    "    # accept or reject?  i.e. set accept=1 or 0 accordingly\n",
    "    \n",
    "    # if reject, undo the move, to get back to 'before' configuration\n",
    "    \n",
    "    return accept"
   ]
  },
  {
   "cell_type": "code",
   "execution_count": null,
   "metadata": {},
   "outputs": [],
   "source": [
    "# generate chain of configurations\n",
    "for stepNumber in range(numSteps):\n",
    "    MCMC_Translate()\n",
    "    if (stepNumber % stride_store):\n",
    "        store_config(fileName)"
   ]
  }
 ],
 "metadata": {
  "kernelspec": {
   "display_name": "Python 3 (ipykernel)",
   "language": "python",
   "name": "python3"
  },
  "language_info": {
   "codemirror_mode": {
    "name": "ipython",
    "version": 3
   },
   "file_extension": ".py",
   "mimetype": "text/x-python",
   "name": "python",
   "nbconvert_exporter": "python",
   "pygments_lexer": "ipython3",
   "version": "3.11.3"
  }
 },
 "nbformat": 4,
 "nbformat_minor": 2
}
