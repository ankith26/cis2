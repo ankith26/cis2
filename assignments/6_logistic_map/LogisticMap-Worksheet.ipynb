{
 "cells": [
  {
   "cell_type": "markdown",
   "metadata": {},
   "source": [
    "****\n",
    "<a id='lesson-2'></a>\n",
    "# Lesson-2: Logistic Map\n",
    "****\n",
    "\n",
    "## Map:\n",
    "Map is a mathematical construct that takes an object and returns another object of same type. Usually, the map is iterated multiple times to test for reaching a 'constant' value i.e. steady state\n",
    "\n",
    "Example: the operation of a map $f$ may written as: <br>\n",
    "  $x_1=f(x_0)$ <br>\n",
    "where the map $f$ transform the input $x_0$ to its new value $x_1$.\n",
    "\n",
    "## Logistical map\n",
    "Logistic map is a quadratic map; i.e. $f(x)$ is a quadratic ploynomial. \n",
    "It shows a particularly interesting phenomena of 'deterministic chaos' i.e. a deterministic map showing apparently random behaviour.  Logistic map has a single parameter, named $\\alpha$, and is given by: <br>\n",
    "$f(x)=\\alpha x(1-x)$<br>\n",
    "When $0\\le \\alpha \\le 4$, the map takes an input $0\\le x \\le 1$ to give an output in the same range. For a particular value of the parameter $\\alpha$, we want to find the behaviour of the map. For such systems, plot of $x_{n}$ vs $x_{n+1}$ is called phase plot and is a important tool for visualising and analysing such systems. \n",
    "\n",
    "We will explore this in this tutorial using phase plots.\n",
    "\n",
    "You can find good detail on Logistic Map at: https://en.wikipedia.org/wiki/Logistic_map\n",
    "\n",
    "## Task-1\n",
    "Write a function that will take as input the following: \n",
    "1. parameter value $\\alpha$\n",
    "1. starting value for $x$\n",
    "1. number of iterations to run\n",
    "\n",
    "Tasks:\n",
    "1. Task is to plot the $n$ vs. $x_n$, where $x_n=f(x_{n-1})$ and $x_0=x$.\n",
    "1. For a fixed $\\alpha$ and do the above plot for various $0\\le x_0 \\le 1$. \n",
    "1. Repeat above steps for the following values of $\\alpha$: 0.5, 1.0, 1.5, 2.0, 2.5, 3.0, 3.25, 3.4, 5.52\n",
    "1. Comment\n",
    "\n"
   ]
  },
  {
   "cell_type": "code",
   "execution_count": null,
   "metadata": {},
   "outputs": [],
   "source": []
  },
  {
   "cell_type": "markdown",
   "metadata": {},
   "source": []
  },
  {
   "cell_type": "markdown",
   "metadata": {},
   "source": [
    "## Task-2\n",
    "Write a function that will take values for $x$, $\\alpha$ and the number of steps and plot the Phase Plot for these steps.\n",
    "\n"
   ]
  },
  {
   "cell_type": "code",
   "execution_count": null,
   "metadata": {},
   "outputs": [],
   "source": []
  },
  {
   "cell_type": "code",
   "execution_count": null,
   "metadata": {},
   "outputs": [],
   "source": []
  },
  {
   "cell_type": "markdown",
   "metadata": {},
   "source": [
    "## Task-3\n",
    "Write a function, for a particular value of $\\alpha$, to determine steady states and cycles (lets denote these values as $x^*(\\alpha)$.<br>\n",
    "\n",
    "Solution: consider $f(x)$, $f(f(x))=f^2(x)$, $f^3(x)$,...,$f^n(x)$.  \n",
    "\n",
    "\n",
    "### Strategy to solve this task: to find the steady-state or cycle for a given $\\alpha$\n",
    "\n",
    "1. Find roots of $f^{(n)}-x=0$, where $f^{(n)}$ is the $n^{th}$ iteration of the map; i.e. $f^{(3)}(x)=f(f(f(x)))$\n",
    "2. Check the stability of the roots. \n",
    "1. If all roots are unstable, then increase n by 1 and goto step 1\n",
    "1. If even one root is stable, then we have found the steady-state/cycle.\n",
    "\n",
    "Alternatively: \n",
    "$ \\frac{d}{dx} f^{(n)}(x) = \\frac{df(x_{n-1})}{dx}  \\frac{d}{dx} f^{(n-1)}(x)  = \\left[\\alpha (1-2 x_{n-1})\\right] \\frac{d}{dx} f^{(n-1)}(x_{n-1}) $, which is a recursive formula for the derivative!\n",
    "\n",
    "\\begin{eqnarray}\n",
    "\\text{ Denote } x_n &= f^{(n)}(x) \\\\\n",
    "\\frac{d}{dx} f^{(n)}(x) & = \\frac{d}{dx} x_n = \\frac{d}{dx} f(x_{(n-1)}) =\n",
    "                     \\left[\\alpha (1-2 x_{(n-1)})\\right] \\frac{d}{dx} x_{(n-1)} \\\\\n",
    " \\text{ with } x_0 = x \\implies \\frac{d}{dx} x_0 = 1\n",
    "\\end{eqnarray}\n",
    "\n",
    "$$ \\frac{d}{dx} f^{(n)}(x)  = \\frac{d}{dx} x_n = \\frac{d}{dx} f(x_{(n-1)}) = f^\\prime(x_{(n-1)}) \\frac{d}{dx} x_{(n-1)} \\text{ where }f^\\prime(x)=\\alpha (1-2x) \\text{ and }\\frac{d}{dx}x_0 = 1$$\n",
    "\n",
    "So that $$\\frac{d}{dx} f^{(n)}(x) = f^\\prime(x_{n-1})~f^\\prime(x_{n-2})~\\cdots f^\\prime(x_{2})~ f^\\prime(x_{1})~f^\\prime(x_0)\\text{ where }x_0=x\\text{ and }x_n=f^{(n)}(x_0)$$\n",
    "and use `scipy.optimize.fixed_point`\n"
   ]
  },
  {
   "cell_type": "code",
   "execution_count": null,
   "metadata": {},
   "outputs": [],
   "source": []
  },
  {
   "cell_type": "code",
   "execution_count": null,
   "metadata": {},
   "outputs": [],
   "source": []
  },
  {
   "cell_type": "markdown",
   "metadata": {},
   "source": [
    "\n",
    "## Task-4\n",
    "Plot $\\alpha$ vs $x^*(\\alpha)$. Comment.\n",
    "\n"
   ]
  },
  {
   "cell_type": "code",
   "execution_count": null,
   "metadata": {},
   "outputs": [],
   "source": []
  },
  {
   "cell_type": "code",
   "execution_count": null,
   "metadata": {},
   "outputs": [],
   "source": []
  },
  {
   "cell_type": "markdown",
   "metadata": {},
   "source": [
    "\n",
    "## Task-5\n",
    "Find the ratio between two consequtive bifurcations."
   ]
  },
  {
   "cell_type": "code",
   "execution_count": null,
   "metadata": {},
   "outputs": [],
   "source": []
  },
  {
   "cell_type": "code",
   "execution_count": null,
   "metadata": {},
   "outputs": [],
   "source": []
  },
  {
   "cell_type": "code",
   "execution_count": null,
   "metadata": {},
   "outputs": [],
   "source": []
  },
  {
   "cell_type": "code",
   "execution_count": null,
   "metadata": {},
   "outputs": [],
   "source": []
  }
 ],
 "metadata": {
  "kernelspec": {
   "display_name": "Python 3",
   "language": "python",
   "name": "python3"
  },
  "language_info": {
   "codemirror_mode": {
    "name": "ipython",
    "version": 3
   },
   "file_extension": ".py",
   "mimetype": "text/x-python",
   "name": "python",
   "nbconvert_exporter": "python",
   "pygments_lexer": "ipython3",
   "version": "3.8.10"
  }
 },
 "nbformat": 4,
 "nbformat_minor": 2
}
