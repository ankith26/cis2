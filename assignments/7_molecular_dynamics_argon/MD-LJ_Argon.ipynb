{
 "cells": [
  {
   "cell_type": "markdown",
   "metadata": {},
   "source": [
    " ***\n",
    "<a id='lesson-4'></a>\n",
    "# Lesson-4: Molecular Dynamics\n",
    "***\n",
    "- Molecular Dynamics is essentially the application of the Newtons Second Law to molecules, where the force acting on each part of the molecule is computed by modelling its interaction with every other part of the system.\n",
    "- Total potential energy of the system: \n",
    "$$ U = \\sum_{i\\in\\{bonds\\}} \\frac{1}{2} k_{b,i} (d_i - d_{0,i})^2 + \\sum_{i\\in\\{angles\\}} \\frac{1}{2} k_{a,i} (\\theta_i - \\theta_{0,i})^2 + \\\\ \\sum_{i\\in\\{dihedrals\\}} \\phi ( cos(n\\theta_i)-1)  +  \\sum_{i,j\\in\\{non-bond~pairs\\}} \\left( U_{LJ}(i,j) +  U_{Columbic}(i,j)\\right)\n",
    "$$\n",
    "- Equations of motion given by:\n",
    "$$ \\frac{d\\vec{p}_i}{dt} = \\vec{F}_i \\\\ \\frac{d \\vec{r}_i}{dt} = \\vec{p}_i/m_i $$\n",
    "- Euler Method:\n",
    "$$ \\vec{p}_i(t+dt) = \\vec{p}_i(t) + dt~\\vec{F}_i(t) \\\\ \\vec{r}_i(t+dt)=\\vec{r}_i(t) + dt\\vec{p}_i/m_i\n",
    "$$\n",
    "where the atom index $i \\in [1,N]$\n",
    "- Check on accuracy: constant total energy, total linear momentum\n",
    "- Example: Simple harmonic oscillator\n",
    "\n",
    "## Example: Argon\n",
    "Argon atom is electrically neutral and a good model for the pair-wise interaction between two Argon atoms is given by Lennard-Jones potential, whose functional form is given by:\n",
    "$$ U_{LJ} (\\vec{r}_i,\\vec{r}_j) = 4 \\epsilon \\left( \\left(\\frac{\\sigma}{r} \\right)^{12}- \\left(\\frac{\\sigma}{r} \\right)^6 \\right)  $$\n",
    "where $\\vec{r} = \\vec{r}_i - \\vec{r}_j$ and $r=|\\vec{r}|$. The force on particle $i$ due to its interaction via LJ potenital with particle $j$ is then given by: $$-\\left( \\frac{\\partial U_{LJ}}{\\partial x_i}, \\frac{\\partial U_{LJ}}{\\partial y_i},\\frac{\\partial U_{LJ}}{\\partial z_i} \\right)$$\n",
    "And the total potential of the system of $N$ Argon atoms is sum of all the pairwise interactions, i.e.,\n",
    "$$ U = \\frac{1}{2} \\sum_{i,j=1, i\\ne j}^N U_{LJ} (\\vec{r}_i,\\vec{r}_j) $$\n",
    "Using the Euler method mentioned above, write a program to compute the trajectory of the system! "
   ]
  },
  {
   "cell_type": "markdown",
   "metadata": {},
   "source": [
    "Following functions might need to be written:\n",
    "\n",
    "- `initialise_config`\n",
    "- `initialise_momenta`\n",
    "- `compute_force`, `compute_pairwiseLJ(i, j, sigma, epsilon)`\n",
    "- `compute_totalEnergy`, `compute_energy_pairwiseLJ(i, j, sigma, epsilon)`\n",
    "- `euler_integrate(timestep)`\n",
    "\n"
   ]
  },
  {
   "cell_type": "code",
   "execution_count": 2,
   "metadata": {},
   "outputs": [
    {
     "name": "stdout",
     "output_type": "stream",
     "text": [
      "/home/radhikesh\n"
     ]
    }
   ],
   "source": [
    "cd .."
   ]
  },
  {
   "cell_type": "code",
   "execution_count": null,
   "metadata": {},
   "outputs": [],
   "source": []
  }
 ],
 "metadata": {
  "kernelspec": {
   "display_name": "Python 3 (ipykernel)",
   "language": "python",
   "name": "python3"
  },
  "language_info": {
   "codemirror_mode": {
    "name": "ipython",
    "version": 3
   },
   "file_extension": ".py",
   "mimetype": "text/x-python",
   "name": "python",
   "nbconvert_exporter": "python",
   "pygments_lexer": "ipython3",
   "version": "3.11.3"
  }
 },
 "nbformat": 4,
 "nbformat_minor": 2
}
