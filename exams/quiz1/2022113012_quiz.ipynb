{
 "cells": [
  {
   "cell_type": "markdown",
   "metadata": {},
   "source": [
    "# Solve a given chemical equation"
   ]
  },
  {
   "cell_type": "markdown",
   "metadata": {},
   "source": [
    "## Task-1: Design a input scheme for the user to input a chemical equation that need to be balanced.\n",
    "\n"
   ]
  },
  {
   "cell_type": "code",
   "execution_count": 1,
   "metadata": {},
   "outputs": [],
   "source": [
    "import re"
   ]
  },
  {
   "cell_type": "code",
   "execution_count": 2,
   "metadata": {},
   "outputs": [],
   "source": [
    "string=\"H 2 + O 2 = H 2 O\""
   ]
  },
  {
   "cell_type": "code",
   "execution_count": 3,
   "metadata": {},
   "outputs": [
    {
     "name": "stdout",
     "output_type": "stream",
     "text": [
      "{'H', 'O'}\n"
     ]
    }
   ],
   "source": [
    "atomList = set(re.split('[ 0-9+=]+',string))\n",
    "print(atomList)"
   ]
  },
  {
   "cell_type": "code",
   "execution_count": 4,
   "metadata": {},
   "outputs": [
    {
     "name": "stdout",
     "output_type": "stream",
     "text": [
      "H 2 + O 2 \n",
      " H 2 O\n"
     ]
    }
   ],
   "source": [
    "#[reactants, products] = (string.split(sep=\"=\"))\n",
    "[reactants, products] = (re.split('=',string))\n",
    "print(reactants)\n",
    "print(products)"
   ]
  },
  {
   "cell_type": "code",
   "execution_count": 5,
   "metadata": {},
   "outputs": [
    {
     "name": "stdout",
     "output_type": "stream",
     "text": [
      "['H 2 ', ' O 2 ']     [' H 2 O']\n"
     ]
    }
   ],
   "source": [
    "react_list= reactants.split(sep=\"+\")\n",
    "prod_list = products.split(sep=\"+\")\n",
    "print(str(react_list),\"   \",str(prod_list))"
   ]
  },
  {
   "cell_type": "code",
   "execution_count": 6,
   "metadata": {},
   "outputs": [
    {
     "name": "stdout",
     "output_type": "stream",
     "text": [
      "['H', '2', 'O']\n"
     ]
    }
   ],
   "source": [
    "for chem in prod_list:\n",
    "    c=list(filter(None,(re.split(' ',chem))))\n",
    "    print(c)"
   ]
  },
  {
   "cell_type": "markdown",
   "metadata": {},
   "source": [
    "# TASK 1a: Write a function that will take one chemical (reactant or product) and return chemical_composition_vector\n",
    "\n",
    "Consider reaction ' H 2 + O 2 = H 2 O '\n",
    "- set atomList is {'O','H'}\n",
    "- For ' H 2 ', vector is [0, 2]\n",
    "- For ' O 2 ', vector is [2, 0]\n",
    "- For 'H 2 O', vector is [-1, -2] (minus sign because of H2O being product"
   ]
  },
  {
   "cell_type": "code",
   "execution_count": 7,
   "metadata": {},
   "outputs": [
    {
     "name": "stdout",
     "output_type": "stream",
     "text": [
      "%pylab is deprecated, use %matplotlib inline and import the required libraries.\n",
      "Populating the interactive namespace from numpy and matplotlib\n"
     ]
    }
   ],
   "source": [
    "%pylab inline"
   ]
  },
  {
   "cell_type": "code",
   "execution_count": 8,
   "metadata": {},
   "outputs": [],
   "source": [
    "def get_chemicalVector(chemical, atomList):\n",
    "    print('chemical is', chemical)\n",
    "    c = list(filter(None,(re.split(' ',chemical))))\n",
    "    c_size = len(c)\n",
    "    c_idx = 0\n",
    "    c_dict = {}\n",
    "    print('c= ',c,' c_size=',c_size)\n",
    "    \n",
    "    while c_idx < c_size:\n",
    "        c1 = c[c_idx]\n",
    "        print('atom is: ',c1)\n",
    "        if (c1 in atomList): # check if atom is in the atomList\n",
    "            if ( c_idx  == c_size -1):\n",
    "                num = 1\n",
    "                c_idx += 1\n",
    "            elif  ( c[c_idx +1] in atomList ):\n",
    "                num = 1\n",
    "                c_idx += 1\n",
    "            elif ( (c[c_idx +1 ]).isdigit() ):\n",
    "                num = int( c[c_idx+1])\n",
    "                c_idx += 2\n",
    "            c_dict[c1] = num\n",
    "            print('chemical ',c1, c_dict, 'c_idx=',c_idx)\n",
    "        else:\n",
    "            return \"ERROR\"\n",
    "    \n",
    "    c_vec = np.zeros( (len(atomList),) )\n",
    "    for c1 in c_dict.keys():\n",
    "        c_vec[ atomList.index(c1) ] = c_dict[c1]\n",
    "    print(\"chemical \", chemical,\" c_vec \", c_vec)\n",
    "    return c_vec\n",
    "            "
   ]
  },
  {
   "cell_type": "code",
   "execution_count": 9,
   "metadata": {},
   "outputs": [
    {
     "name": "stdout",
     "output_type": "stream",
     "text": [
      "chemical is H 2 S O 4\n",
      "c=  ['H', '2', 'S', 'O', '4']  c_size= 5\n",
      "atom is:  H\n",
      "chemical  H {'H': 2} c_idx= 2\n",
      "atom is:  S\n",
      "chemical  S {'H': 2, 'S': 1} c_idx= 3\n",
      "atom is:  O\n",
      "chemical  O {'H': 2, 'S': 1, 'O': 4} c_idx= 5\n",
      "chemical  H 2 S O 4  c_vec  [2. 1. 4.]\n"
     ]
    },
    {
     "data": {
      "text/plain": [
       "array([2., 1., 4.])"
      ]
     },
     "execution_count": 9,
     "metadata": {},
     "output_type": "execute_result"
    }
   ],
   "source": [
    "get_chemicalVector('H 2 S O 4',['H','S','O'])"
   ]
  },
  {
   "cell_type": "markdown",
   "metadata": {},
   "source": [
    "## Task-2: From the input, get into a form that is suitable for mathematical manipulations\n",
    "\n",
    "\n",
    "\n",
    "1. Lets say that you have atom types $A_1, A_2, \\cdots A_N$. \n",
    "2. Write each chemical component as a $N$ dimensional vector \n",
    "3. Suppose the balanced the chemical reaction is where $R_i$ are reactants and $P_i$ are products, and we require that $r_i$ and $p_i$ be integers... \n",
    "$$ r_1 R_1 + r_2 R_2 +\\cdots - (p_1 P_1 + p_1 P_2 ) = 0$$ \n",
    "3. Set up a system of $N$ simulatneous equations, and solve for it to get $r_i$ and $p_i$\n",
    "4. What are the conditions under which there is NO solution? "
   ]
  },
  {
   "cell_type": "code",
   "execution_count": 10,
   "metadata": {},
   "outputs": [],
   "source": [
    "rxn2 = ' H 2 O + S O 2 + O 2 = H 2 S O 4 '"
   ]
  },
  {
   "cell_type": "code",
   "execution_count": 11,
   "metadata": {},
   "outputs": [
    {
     "name": "stdout",
     "output_type": "stream",
     "text": [
      "atomList =  ['S', 'H', 'O']\n"
     ]
    }
   ],
   "source": [
    "atomList = list(set(filter(None,re.split('[ 0-9+=]+',rxn2))))\n",
    "print('atomList = ',atomList)"
   ]
  },
  {
   "cell_type": "code",
   "execution_count": 12,
   "metadata": {},
   "outputs": [
    {
     "name": "stdout",
     "output_type": "stream",
     "text": [
      " H 2 O + S O 2 + O 2 \n",
      " H 2 S O 4 \n"
     ]
    }
   ],
   "source": [
    "#[reactants, products] = (string.split(sep=\"=\"))\n",
    "[reactants, products] = (re.split('=',rxn2))\n",
    "print(reactants)\n",
    "print(products)"
   ]
  },
  {
   "cell_type": "code",
   "execution_count": 13,
   "metadata": {},
   "outputs": [
    {
     "name": "stdout",
     "output_type": "stream",
     "text": [
      "[' H 2 O ', ' S O 2 ', ' O 2 ']     [' H 2 S O 4 ']\n"
     ]
    }
   ],
   "source": [
    "react_list= reactants.split(sep=\"+\")\n",
    "prod_list = products.split(sep=\"+\")\n",
    "print(str(react_list),\"   \",str(prod_list))"
   ]
  },
  {
   "cell_type": "code",
   "execution_count": 14,
   "metadata": {},
   "outputs": [
    {
     "name": "stdout",
     "output_type": "stream",
     "text": [
      "chemical is  H 2 S O 4 \n",
      "c=  ['H', '2', 'S', 'O', '4']  c_size= 5\n",
      "atom is:  H\n",
      "chemical  H {'H': 2} c_idx= 2\n",
      "atom is:  S\n",
      "chemical  S {'H': 2, 'S': 1} c_idx= 3\n",
      "atom is:  O\n",
      "chemical  O {'H': 2, 'S': 1, 'O': 4} c_idx= 5\n",
      "chemical   H 2 S O 4   c_vec  [1. 2. 4.]\n",
      "['S', 'H', 'O']\n"
     ]
    }
   ],
   "source": [
    "get_chemicalVector(prod_list[0],atomList)\n",
    "print(atomList)"
   ]
  },
  {
   "cell_type": "markdown",
   "metadata": {},
   "source": [
    "## Task-3: Using the solution above, output the balanced equation"
   ]
  },
  {
   "cell_type": "code",
   "execution_count": 15,
   "metadata": {},
   "outputs": [
    {
     "name": "stdout",
     "output_type": "stream",
     "text": [
      "chemical is  H 2 O \n",
      "c=  ['H', '2', 'O']  c_size= 3\n",
      "atom is:  H\n",
      "chemical  H {'H': 2} c_idx= 2\n",
      "atom is:  O\n",
      "chemical  O {'H': 2, 'O': 1} c_idx= 3\n",
      "chemical   H 2 O   c_vec  [0. 2. 1.]\n",
      "chemical is  S O 2 \n",
      "c=  ['S', 'O', '2']  c_size= 3\n",
      "atom is:  S\n",
      "chemical  S {'S': 1} c_idx= 1\n",
      "atom is:  O\n",
      "chemical  O {'S': 1, 'O': 2} c_idx= 3\n",
      "chemical   S O 2   c_vec  [1. 0. 2.]\n",
      "chemical is  O 2 \n",
      "c=  ['O', '2']  c_size= 2\n",
      "atom is:  O\n",
      "chemical  O {'O': 2} c_idx= 2\n",
      "chemical   O 2   c_vec  [0. 0. 2.]\n",
      "chemical is  H 2 S O 4 \n",
      "c=  ['H', '2', 'S', 'O', '4']  c_size= 5\n",
      "atom is:  H\n",
      "chemical  H {'H': 2} c_idx= 2\n",
      "atom is:  S\n",
      "chemical  S {'H': 2, 'S': 1} c_idx= 3\n",
      "atom is:  O\n",
      "chemical  O {'H': 2, 'S': 1, 'O': 4} c_idx= 5\n",
      "chemical   H 2 S O 4   c_vec  [1. 2. 4.]\n",
      "The solution (as a vector) for the above equation is:\n",
      "Matrix([\n",
      "[1.0],\n",
      "[1.0],\n",
      "[0.5],\n",
      "[  1]])\n",
      "The balanced chemical equation is:\n",
      "1.00000000000000  H 2 O  + 1.00000000000000  S O 2  + 0.500000000000000  O 2  = 1  H 2 S O 4 \n"
     ]
    }
   ],
   "source": [
    "import numpy\n",
    "from sympy import Matrix\n",
    "\n",
    "\n",
    "def balance_react_and_prod(reacts, prods, atoms):\n",
    "    coeff_matrix = []\n",
    "    for molecule in reacts:\n",
    "        cvec = get_chemicalVector(molecule, atoms)\n",
    "        if isinstance(cvec, str):\n",
    "            raise ValueError(\"Could not balance the equation\")\n",
    "\n",
    "        coeff_matrix.append(cvec)\n",
    "\n",
    "    for molecule in prods:\n",
    "        cvec = get_chemicalVector(molecule, atoms)\n",
    "        if isinstance(cvec, str):\n",
    "            raise ValueError(\"Could not balance the equation\")\n",
    "\n",
    "        coeff_matrix.append(-cvec)\n",
    "\n",
    "    try:\n",
    "        solution_space = Matrix(numpy.array(coeff_matrix).transpose()).nullspace()[0]\n",
    "    except Exception:\n",
    "        raise ValueError(\"Could not balance the equation\")\n",
    "\n",
    "    react_cnt = len(reacts)\n",
    "    solution_str = (\n",
    "        \" + \".join(f\"{solution_space[i]} {m}\" for i, m in enumerate(reacts))\n",
    "        + \" = \"\n",
    "        + \" + \".join(\n",
    "            f\"{solution_space[i + react_cnt]} {m}\" for i, m in enumerate(prods)\n",
    "        )\n",
    "    )\n",
    "    return solution_space, solution_str\n",
    "\n",
    "\n",
    "solution_vector, solution_str = balance_react_and_prod(react_list, prod_list, atomList)\n",
    "print(\"The solution (as a vector) for the above equation is:\")\n",
    "print(repr(solution_vector))\n",
    "print(\"The balanced chemical equation is:\")\n",
    "print(solution_str)\n"
   ]
  },
  {
   "cell_type": "markdown",
   "metadata": {},
   "source": [
    "## Task-4: If the above is working, can you wrap the whole program in a single function, which will take the input and give the proper output?\n",
    "\n",
    "Given the string 'eqn', the output of the function that you will write, called BalanceChemicalEquation(eqn), will be the balanced chemical equation or a proper error"
   ]
  },
  {
   "cell_type": "code",
   "execution_count": 16,
   "metadata": {},
   "outputs": [],
   "source": [
    "def BalanceChemicalEquation(eqn):\n",
    "    atom_list = list(set(filter(None, re.split(\"[ 0-9+=]+\", eqn))))\n",
    "    reactants, products = re.split(\"=\", eqn)\n",
    "    reacts = reactants.split(sep=\"+\")\n",
    "    prods = products.split(sep=\"+\")\n",
    "    try:\n",
    "        return balance_react_and_prod(reacts, prods, atom_list)[1]\n",
    "    except ValueError:\n",
    "        return \"ERROR: Could not balance chemical equation!\"\n"
   ]
  },
  {
   "cell_type": "code",
   "execution_count": 17,
   "metadata": {},
   "outputs": [
    {
     "name": "stdout",
     "output_type": "stream",
     "text": [
      "Sample test case:\n",
      "chemical is H 2 \n",
      "c=  ['H', '2']  c_size= 2\n",
      "atom is:  H\n",
      "chemical  H {'H': 2} c_idx= 2\n",
      "chemical  H 2   c_vec  [2. 0.]\n",
      "chemical is  O 2 \n",
      "c=  ['O', '2']  c_size= 2\n",
      "atom is:  O\n",
      "chemical  O {'O': 2} c_idx= 2\n",
      "chemical   O 2   c_vec  [0. 2.]\n",
      "chemical is  H 2 O\n",
      "c=  ['H', '2', 'O']  c_size= 3\n",
      "atom is:  H\n",
      "chemical  H {'H': 2} c_idx= 2\n",
      "atom is:  O\n",
      "chemical  O {'H': 2, 'O': 1} c_idx= 3\n",
      "chemical   H 2 O  c_vec  [2. 1.]\n",
      "The balanced equation is:\n",
      "1.00000000000000 H 2  + 0.500000000000000  O 2  = 1  H 2 O\n"
     ]
    }
   ],
   "source": [
    "print(\"Sample test case:\")\n",
    "ret = BalanceChemicalEquation(\"H 2 + O 2 = H 2 O\")\n",
    "print(\"The balanced equation is:\")\n",
    "print(ret)"
   ]
  }
 ],
 "metadata": {
  "kernelspec": {
   "display_name": "Python 3 (ipykernel)",
   "language": "python",
   "name": "python3"
  },
  "language_info": {
   "codemirror_mode": {
    "name": "ipython",
    "version": 3
   },
   "file_extension": ".py",
   "mimetype": "text/x-python",
   "name": "python",
   "nbconvert_exporter": "python",
   "pygments_lexer": "ipython3",
   "version": "3.10.6"
  }
 },
 "nbformat": 4,
 "nbformat_minor": 2
}
